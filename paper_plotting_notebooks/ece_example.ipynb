{
 "cells": [
  {
   "cell_type": "markdown",
   "metadata": {},
   "source": [
    "## Toy examples: misleading ECE"
   ]
  },
  {
   "cell_type": "code",
   "execution_count": 2,
   "metadata": {},
   "outputs": [],
   "source": [
    "import numpy as np\n",
    "from sklearn.metrics import roc_auc_score\n",
    "import matplotlib.pyplot as plt\n",
    "import seaborn as sns\n",
    "from pathlib import Path\n",
    "\n",
    "root = \"/data/failure_detection\"\n",
    "\n",
    "\n",
    "def get_ece(p, is_correct):\n",
    "    n_bins = 40\n",
    "    ece = 0\n",
    "    bin_boundaries = np.linspace(0, 1, n_bins + 1)\n",
    "    for bin_lower, bin_upper in zip(bin_boundaries[:-1], bin_boundaries[1:]):\n",
    "        # Calculated |confidence - accuracy| in each bin\n",
    "        in_bin = (p >= bin_lower) * (p < bin_upper)\n",
    "        if in_bin.sum() > 0:\n",
    "            prop_in_bin = in_bin.mean()\n",
    "            accuracy_in_bin = is_correct[in_bin].mean()\n",
    "            avg_confidence_in_bin = p[in_bin].mean()\n",
    "            ece += np.abs(avg_confidence_in_bin - accuracy_in_bin) * prop_in_bin\n",
    "    return ece"
   ]
  },
  {
   "cell_type": "code",
   "execution_count": 3,
   "metadata": {},
   "outputs": [],
   "source": [
    "# Simulate p(\\hat{y} == y | x)\n",
    "x = np.random.rand(10000)\n",
    "correct = np.random.rand(10000) < x\n",
    "\n",
    "# Simulate both model responses\n",
    "c1 = x\n",
    "c2 = x * 0.1 + 0.9\n",
    "\n",
    "ece_1, roc_1 = get_ece(c1, correct), roc_auc_score(correct, c2)\n",
    "ece_2, roc_2 = get_ece(c2, correct), roc_auc_score(correct, c2)"
   ]
  },
  {
   "cell_type": "code",
   "execution_count": 4,
   "metadata": {},
   "outputs": [
    {
     "data": {
      "image/png": "[encoded data removed]",
      "text/plain": [
       "<Figure size 720x144 with 2 Axes>"
      ]
     },
     "metadata": {
      "needs_background": "light"
     },
     "output_type": "display_data"
    }
   ],
   "source": [
    "f, ax = plt.subplots(1, 2, figsize=(10, 2))\n",
    "sns.histplot(\n",
    "    x=c1,\n",
    "    hue=correct,\n",
    "    ax=ax[0],\n",
    "    bins=np.linspace(0, 1 + 1e-8, 41),\n",
    "    multiple=\"dodge\",\n",
    "    legend=False,\n",
    ")\n",
    "sns.histplot(\n",
    "    x=c2,\n",
    "    hue=correct,\n",
    "    ax=ax[1],\n",
    "    bins=np.linspace(0, 1 + 1e-8, 41),\n",
    "    multiple=\"dodge\",\n",
    "    legend=False,\n",
    ")\n",
    "ax[0].legend(loc=\"upper center\", labels=[\"Correct\", \"Misclassified\"])\n",
    "ax[1].legend(loc=\"upper left\", labels=[\"Correct\", \"Misclassified\"])\n",
    "ax[0].set_xlabel(\"Confidence Score\")\n",
    "ax[0].set_title(\n",
    "    f\"Model 1\\nECE = {ece_1:.2f}\\n ROC-AUC misclassification detection = {roc_1:.2f}\"\n",
    ")\n",
    "ax[1].set_xlabel(\"Confidence Score\")\n",
    "ax[1].set_title(\n",
    "    f\"Model 2\\nECE = {ece_2:.2f}\\n ROC-AUC misclassification detection = {roc_2:.2f}\"\n",
    ")\n",
    "plt.savefig(\n",
    "    format=\"pdf\",\n",
    "    fname=str(Path(root) / \"outputs\" / \"figures\" / f\"toy_example_calibration.pdf\"),\n",
    "    bbox_inches=\"tight\",\n",
    ")"
   ]
  },
  {
   "cell_type": "code",
   "execution_count": null,
   "metadata": {},
   "outputs": [],
   "source": []
  }
 ],
 "metadata": {
  "interpreter": {
   "hash": "be93a78902cae3464218ffefe522ba72b88191f3450f673ca96e3a772eafcd26"
  },
  "kernelspec": {
   "display_name": "Python 3.9.0 ('DeepLearning')",
   "language": "python",
   "name": "python3"
  },
  "language_info": {
   "codemirror_mode": {
    "name": "ipython",
    "version": 3
   },
   "file_extension": ".py",
   "mimetype": "text/x-python",
   "name": "python",
   "nbconvert_exporter": "python",
   "pygments_lexer": "ipython3",
   "version": "3.9.0"
  },
  "orig_nbformat": 4
 },
 "nbformat": 4,
 "nbformat_minor": 2
}
