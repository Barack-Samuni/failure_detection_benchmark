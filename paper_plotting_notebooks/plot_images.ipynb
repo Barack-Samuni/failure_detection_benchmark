{
 "cells": [
  {
   "cell_type": "code",
   "execution_count": null,
   "metadata": {},
   "outputs": [],
   "source": [
    "import os\n",
    "import sys\n",
    "from pathlib import Path\n",
    "import matplotlib.pyplot as plt\n",
    "\n",
    "root = \"/data/failure_detection\"\n",
    "sys.path.append(root)\n",
    "from configs.load_model_and_config import get_data_module\n",
    "\n",
    "os.environ[\"OUTPUT_DIR\"] = \"/data/failure_detection/outputs\"\n",
    "figure_dir = Path(\"/data/failure_detection/outputs/figures\")"
   ]
  },
  {
   "cell_type": "code",
   "execution_count": null,
   "metadata": {},
   "outputs": [],
   "source": [
    "f, ax = plt.subplots(6, 10, figsize=(18, 11))\n",
    "\n",
    "data_module = get_data_module(\"busi/busi_resnet.yml\")\n",
    "batch_1_img, batch_1_targets = next(iter(data_module.test_dataloader()))\n",
    "for i in range(10):\n",
    "    ax[0, i].imshow(batch_1_img[i, 0], cmap=\"gray\")\n",
    "    if i == 0:\n",
    "        ax[0, i].set_ylabel(\"BUSI\", fontdict={\"fontsize\": 18})\n",
    "    ax[0, i].set_xticks([])\n",
    "    ax[0, i].set_yticks([])\n",
    "data_module = get_data_module(\"rsna/rsna_resnet50_dropout_all_layers.yml\")\n",
    "batch_1_img, batch_1_targets = next(iter(data_module.test_dataloader()))\n",
    "for i in range(10):\n",
    "    scan_image = batch_1_img[i, 0]\n",
    "    scan_image = (scan_image - scan_image.min()) / (scan_image.max() - scan_image.min())\n",
    "    ax[1, i].imshow(scan_image, cmap=\"gray\")\n",
    "    if i == 0:\n",
    "        ax[1, i].set_ylabel(\"RSNA\", fontdict={\"fontsize\": 18})\n",
    "    ax[1, i].set_xticks([])\n",
    "    ax[1, i].set_yticks([])\n",
    "\n",
    "data_module = get_data_module(\"EyePACS/retino_densenet.yml\")\n",
    "batch_1_img, batch_1_targets = next(iter(data_module.test_dataloader()))\n",
    "for i in range(10):\n",
    "    batch_1_img[i]\n",
    "    ax[2, i].imshow(batch_1_img[i].permute([1, 2, 0]).numpy().astype(int))\n",
    "    if i == 0:\n",
    "        ax[2, i].set_ylabel(\"EyePACS\", fontdict={\"fontsize\": 18})\n",
    "    ax[2, i].set_xticks([])\n",
    "    ax[2, i].set_yticks([])\n",
    "\n",
    "data_module = get_data_module(\"medmnist/organamnist_resnet_dropout_all_layers.yml\")\n",
    "batch_1_img, batch_1_targets = next(iter(data_module.test_dataloader()))\n",
    "for i in range(10):\n",
    "    ax[3, i].imshow(batch_1_img[i, 0], cmap=\"gray\")\n",
    "    if i == 0:\n",
    "        ax[3, i].set_ylabel(\"OrganAMNIST\", fontdict={\"fontsize\": 18})\n",
    "    ax[3, i].set_xticks([])\n",
    "    ax[3, i].set_yticks([])\n",
    "data_module = get_data_module(\"medmnist/pathmnist_resnet_dropout_all_layers.yml\")\n",
    "batch_1_img, batch_1_targets = next(iter(data_module.test_dataloader()))\n",
    "for i in range(10):\n",
    "    ax[4, i].imshow(batch_1_img[i].permute([1, 2, 0]))\n",
    "    if i == 0:\n",
    "        ax[4, i].set_ylabel(\"PathMNIST\", fontdict={\"fontsize\": 18})\n",
    "    ax[4, i].set_xticks([])\n",
    "    ax[4, i].set_yticks([])\n",
    "data_module = get_data_module(\"medmnist/tissuemnist_resnet_dropout_all_layers.yml\")\n",
    "batch_1_img, batch_1_targets = next(iter(data_module.test_dataloader()))\n",
    "for i in range(10):\n",
    "    ax[5, i].imshow(batch_1_img[i, 0], cmap=\"gray\")\n",
    "    if i == 0:\n",
    "        ax[5, i].set_ylabel(\"TissueMNIST\", fontdict={\"fontsize\": 20})\n",
    "    ax[5, i].set_xticks([])\n",
    "    ax[5, i].set_yticks([])\n",
    "\n",
    "f.tight_layout()\n",
    "plt.savefig(fname=str(figure_dir / \"all_images.pdf\"))"
   ]
  }
 ],
 "metadata": {
  "interpreter": {
   "hash": "be93a78902cae3464218ffefe522ba72b88191f3450f673ca96e3a772eafcd26"
  },
  "kernelspec": {
   "display_name": "Python 3.9.0",
   "language": "python",
   "name": "python3"
  },
  "language_info": {
   "codemirror_mode": {
    "name": "ipython",
    "version": 3
   },
   "file_extension": ".py",
   "mimetype": "text/x-python",
   "name": "python",
   "nbconvert_exporter": "python",
   "pygments_lexer": "ipython3",
   "version": "3.9.0"
  },
  "orig_nbformat": 4
 },
 "nbformat": 4,
 "nbformat_minor": 2
}
