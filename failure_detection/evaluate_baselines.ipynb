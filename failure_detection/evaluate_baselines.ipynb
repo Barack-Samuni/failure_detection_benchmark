{
 "cells": [
  {
   "cell_type": "markdown",
   "metadata": {},
   "source": [
    "# Baselines evaluation "
   ]
  },
  {
   "cell_type": "code",
   "metadata": {
    "tags": [
     "parameters"
    ],
    "ExecuteTime": {
     "end_time": "2025-01-20T05:13:52.311798Z",
     "start_time": "2025-01-20T05:13:52.297709Z"
    }
   },
   "source": [
    "import os\n",
    "from pathlib import Path\n",
    "# config_name = \"medmnist/pathmnist_resnet_dropout_all_layers.yml\"\n",
    "config_name = Path(os.getcwd()).parent / \"configs\" / \"busi\" / \"busi_resnet.yml\"\n",
    "scores_filename = Path(os.getcwd()).parent / \"outputs\" / \"BUSI\" / \"resnet18\" / \"dropout_all_layers_autolr_longer\" / \"seed_55\" / \"failure_detection\" / \"scores_df.csv\""
   ],
   "outputs": [],
   "execution_count": 1
  },
  {
   "cell_type": "code",
   "metadata": {
    "ExecuteTime": {
     "end_time": "2025-01-20T05:18:08.328714Z",
     "start_time": "2025-01-20T05:18:03.859653Z"
    }
   },
   "source": [
    "import sys\n",
    "import os\n",
    "from configs.default_config import load_yaml_training_config\n",
    "from failure_detection.evaluator import ThresholdBasedEvaluator\n",
    "from failure_detection.run_evaluation import get_all_scores\n",
    "from sklearn.metrics import ConfusionMatrixDisplay\n",
    "from sklearn.calibration import CalibrationDisplay\n",
    "import seaborn as sns\n",
    "import matplotlib.pyplot as plt\n",
    "import os\n",
    "import pandas as pd\n",
    "from pathlib import Path\n",
    "print(config_name)      # Debugging\n",
    "config = load_yaml_training_config(config_name)\n",
    "\n",
    "if not Path(scores_filename).exists():\n",
    "    print(\"Score dataframe not created yet, running scores script\")\n",
    "    scores_df = get_all_scores(config_name)\n",
    "else:\n",
    "    scores_df = pd.read_csv(scores_filename)\n",
    "\n",
    "if config.n_classes > 2:\n",
    "    scores_df[\"mcmc_probas\"] = None\n",
    "    scores_df[\"Probas\"] = None\n",
    "    scores_df[\"Laplace_probas\"] = None\n",
    "    scores_df[\"SWAG_probas\"] = None"
   ],
   "outputs": [
    {
     "name": "stdout",
     "output_type": "stream",
     "text": [
      "C:\\Computer_Vision\\Medical_Images_With_Rejection\\OurSolution\\failure_detection_benchmark\\configs\\busi\\busi_resnet.yml\n",
      "Loading config from C:\\Computer_Vision\\Medical_Images_With_Rejection\\OurSolution\\failure_detection_benchmark\\configs\\busi\\busi_resnet.yml\n"
     ]
    }
   ],
   "execution_count": 2
  },
  {
   "cell_type": "markdown",
   "metadata": {},
   "source": [
    "## A look at the model"
   ]
  },
  {
   "cell_type": "code",
   "metadata": {
    "ExecuteTime": {
     "end_time": "2025-01-20T05:18:14.905444Z",
     "start_time": "2025-01-20T05:18:14.741505Z"
    }
   },
   "source": [
    "f, ax = plt.subplots(1, 1, figsize=(8, 8))\n",
    "ConfusionMatrixDisplay.from_predictions(\n",
    "    scores_df[\"Targets\"].astype(int).values,\n",
    "    scores_df[\"Predictions\"].astype(int).values,\n",
    "    normalize=\"true\",\n",
    "    ax=ax,\n",
    ")"
   ],
   "outputs": [
    {
     "data": {
      "text/plain": [
       "<sklearn.metrics._plot.confusion_matrix.ConfusionMatrixDisplay at 0x233c13290a0>"
      ]
     },
     "execution_count": 3,
     "metadata": {},
     "output_type": "execute_result"
    },
    {
     "data": {
      "text/plain": [
       "<Figure size 800x800 with 2 Axes>"
      ],
      "image/png": "[encoded data removed]"
     },
     "metadata": {},
     "output_type": "display_data"
    }
   ],
   "execution_count": 3
  },
  {
   "cell_type": "code",
   "metadata": {
    "ExecuteTime": {
     "end_time": "2025-01-20T05:18:19.148411Z",
     "start_time": "2025-01-20T05:18:19.139411Z"
    }
   },
   "source": [
    "from sklearn.metrics import accuracy_score\n",
    "\n",
    "print(\n",
    "    f'Acc: {accuracy_score(scores_df[\"Targets\"].astype(int).values, scores_df[\"Predictions\"].astype(int).values):.3f}'\n",
    ")"
   ],
   "outputs": [
    {
     "name": "stdout",
     "output_type": "stream",
     "text": [
      "Acc: 0.682\n"
     ]
    }
   ],
   "execution_count": 4
  },
  {
   "cell_type": "code",
   "metadata": {
    "ExecuteTime": {
     "end_time": "2025-01-20T05:18:27.499484Z",
     "start_time": "2025-01-20T05:18:27.487484Z"
    }
   },
   "source": [
    "if config.n_classes == 2:\n",
    "    CalibrationDisplay.from_predictions(\n",
    "        scores_df[\"Targets\"].values, scores_df[\"Probas\"].values, n_bins=10\n",
    "    )"
   ],
   "outputs": [],
   "execution_count": 5
  },
  {
   "cell_type": "code",
   "metadata": {
    "ExecuteTime": {
     "end_time": "2025-01-20T05:18:32.541866Z",
     "start_time": "2025-01-20T05:18:32.530870Z"
    }
   },
   "source": [
    "if config.n_classes == 2:\n",
    "    sns.histplot(x=scores_df[\"Probas\"], hue=scores_df[\"Targets\"], multiple=\"stack\")\n",
    "    plt.title(\"Distribution of p(y=1) by target (on test set)\")"
   ],
   "outputs": [],
   "execution_count": 6
  },
  {
   "cell_type": "markdown",
   "metadata": {},
   "source": [
    "## Get Softmax baseline results"
   ]
  },
  {
   "cell_type": "code",
   "metadata": {
    "ExecuteTime": {
     "end_time": "2025-01-20T05:18:38.555808Z",
     "start_time": "2025-01-20T05:18:38.527805Z"
    }
   },
   "source": [
    "evaluator_baseline = ThresholdBasedEvaluator(\n",
    "    scores_df[\"Baseline\"],\n",
    "    scores_df[\"Predictions\"],\n",
    "    scores_df[\"Targets\"],\n",
    "    scores_df[\"Probas\"],\n",
    "    \"Baseline\",\n",
    ")\n",
    "all_metrics = evaluator_baseline.get_new_metrics();"
   ],
   "outputs": [],
   "execution_count": 7
  },
  {
   "cell_type": "code",
   "metadata": {
    "ExecuteTime": {
     "end_time": "2025-01-20T05:18:40.482851Z",
     "start_time": "2025-01-20T05:18:40.463851Z"
    }
   },
   "source": [
    "all_metrics"
   ],
   "outputs": [
    {
     "data": {
      "text/plain": [
       "     Scorer  FPR_TPR95  FPR_TPR80  ROC_AUC_error_detection_global  \\\n",
       "0  Baseline       0.86       0.58                        0.697196   \n",
       "\n",
       "   Original_Accuracy  \n",
       "0           0.681529  "
      ],
      "text/html": [
       "<div>\n",
       "<style scoped>\n",
       "    .dataframe tbody tr th:only-of-type {\n",
       "        vertical-align: middle;\n",
       "    }\n",
       "\n",
       "    .dataframe tbody tr th {\n",
       "        vertical-align: top;\n",
       "    }\n",
       "\n",
       "    .dataframe thead th {\n",
       "        text-align: right;\n",
       "    }\n",
       "</style>\n",
       "<table border=\"1\" class=\"dataframe\">\n",
       "  <thead>\n",
       "    <tr style=\"text-align: right;\">\n",
       "      <th></th>\n",
       "      <th>Scorer</th>\n",
       "      <th>FPR_TPR95</th>\n",
       "      <th>FPR_TPR80</th>\n",
       "      <th>ROC_AUC_error_detection_global</th>\n",
       "      <th>Original_Accuracy</th>\n",
       "    </tr>\n",
       "  </thead>\n",
       "  <tbody>\n",
       "    <tr>\n",
       "      <th>0</th>\n",
       "      <td>Baseline</td>\n",
       "      <td>0.86</td>\n",
       "      <td>0.58</td>\n",
       "      <td>0.697196</td>\n",
       "      <td>0.681529</td>\n",
       "    </tr>\n",
       "  </tbody>\n",
       "</table>\n",
       "</div>"
      ]
     },
     "execution_count": 8,
     "metadata": {},
     "output_type": "execute_result"
    }
   ],
   "execution_count": 8
  },
  {
   "cell_type": "markdown",
   "metadata": {},
   "source": [
    "## Get DOCTOR results"
   ]
  },
  {
   "cell_type": "code",
   "metadata": {
    "ExecuteTime": {
     "end_time": "2025-01-20T05:18:46.913082Z",
     "start_time": "2025-01-20T05:18:46.885565Z"
    }
   },
   "source": [
    "if \"doctor_alpha\" in scores_df.columns:\n",
    "    evaluator_alpha = ThresholdBasedEvaluator(\n",
    "        scores_df[\"doctor_alpha\"],\n",
    "        scores_df[\"Predictions\"],\n",
    "        scores_df[\"Targets\"],\n",
    "        scores_df[\"Probas\"],\n",
    "        \"DoctorAlpha\",\n",
    "    )\n",
    "    all_metrics = all_metrics.append(\n",
    "        evaluator_alpha.get_new_metrics(), ignore_index=True\n",
    "    )\n",
    "\n",
    "if \"doctor_alpha_pbb\" in scores_df.columns:\n",
    "    evaluator_alpha_pbb = ThresholdBasedEvaluator(\n",
    "        scores_df[\"doctor_alpha_pbb\"],\n",
    "        scores_df[\"Predictions\"],\n",
    "        scores_df[\"Targets\"],\n",
    "        scores_df[\"Probas\"],\n",
    "        \"DoctorAlphaPBB\",\n",
    "    )\n",
    "    all_metrics = all_metrics.append(\n",
    "        evaluator_alpha_pbb.get_new_metrics(), ignore_index=True\n",
    "    )"
   ],
   "outputs": [],
   "execution_count": 9
  },
  {
   "cell_type": "markdown",
   "metadata": {},
   "source": [
    "## Get TrustScore results"
   ]
  },
  {
   "cell_type": "code",
   "metadata": {
    "ExecuteTime": {
     "end_time": "2025-01-20T05:18:52.314759Z",
     "start_time": "2025-01-20T05:18:52.286244Z"
    }
   },
   "source": [
    "if \"TrustScore\" in scores_df.columns:\n",
    "    evaluator_trustscore = ThresholdBasedEvaluator(\n",
    "        scores_df[\"TrustScore\"],\n",
    "        scores_df[\"Predictions\"],\n",
    "        scores_df[\"Targets\"],\n",
    "        scores_df[\"Probas\"],\n",
    "        \"Trust Score\",\n",
    "    )\n",
    "    all_metrics = all_metrics.append(\n",
    "        evaluator_trustscore.get_new_metrics(), ignore_index=True\n",
    "    )"
   ],
   "outputs": [],
   "execution_count": 10
  },
  {
   "cell_type": "markdown",
   "metadata": {},
   "source": [
    "## MCMC dropout"
   ]
  },
  {
   "cell_type": "code",
   "metadata": {
    "ExecuteTime": {
     "end_time": "2025-01-20T05:18:57.847155Z",
     "start_time": "2025-01-20T05:18:57.812637Z"
    }
   },
   "source": [
    "if \"mcmc_soft_scores\" in scores_df.columns:\n",
    "    evaluator_mcmcmean_agg = ThresholdBasedEvaluator(\n",
    "        scores_df[\"mcmc_soft_scores\"],\n",
    "        scores_df[\"mcmc_predictions\"],\n",
    "        scores_df[\"Targets\"],\n",
    "        scores_df[\"mcmc_probas\"],\n",
    "        \"MCMC Average Softmax score - Agg pred\",\n",
    "    )\n",
    "    all_metrics = all_metrics.append(\n",
    "        evaluator_mcmcmean_agg.get_new_metrics(), ignore_index=True\n",
    "    )\n",
    "    evaluator_mcmcmean_agg = ThresholdBasedEvaluator(\n",
    "        scores_df[\"mcmc_entropy_scores\"],\n",
    "        scores_df[\"mcmc_predictions\"],\n",
    "        scores_df[\"Targets\"],\n",
    "        scores_df[\"mcmc_probas\"],\n",
    "        \"MCMC Entropy score - Agg pred\",\n",
    "    )\n",
    "    all_metrics = all_metrics.append(\n",
    "        evaluator_mcmcmean_agg.get_new_metrics(), ignore_index=True\n",
    "    )\n",
    "    display(all_metrics)"
   ],
   "outputs": [
    {
     "data": {
      "text/plain": [
       "                                  Scorer  FPR_TPR95  FPR_TPR80  \\\n",
       "0                               Baseline       0.86       0.58   \n",
       "1                            DoctorAlpha       0.84       0.54   \n",
       "2                            Trust Score       0.80       0.48   \n",
       "3  MCMC Average Softmax score - Agg pred       0.80       0.60   \n",
       "4          MCMC Entropy score - Agg pred       0.86       0.64   \n",
       "\n",
       "   ROC_AUC_error_detection_global  Original_Accuracy  \n",
       "0                        0.697196           0.681529  \n",
       "1                        0.691589           0.681529  \n",
       "2                        0.760748           0.681529  \n",
       "3                        0.695701           0.681529  \n",
       "4                        0.696636           0.681529  "
      ],
      "text/html": [
       "<div>\n",
       "<style scoped>\n",
       "    .dataframe tbody tr th:only-of-type {\n",
       "        vertical-align: middle;\n",
       "    }\n",
       "\n",
       "    .dataframe tbody tr th {\n",
       "        vertical-align: top;\n",
       "    }\n",
       "\n",
       "    .dataframe thead th {\n",
       "        text-align: right;\n",
       "    }\n",
       "</style>\n",
       "<table border=\"1\" class=\"dataframe\">\n",
       "  <thead>\n",
       "    <tr style=\"text-align: right;\">\n",
       "      <th></th>\n",
       "      <th>Scorer</th>\n",
       "      <th>FPR_TPR95</th>\n",
       "      <th>FPR_TPR80</th>\n",
       "      <th>ROC_AUC_error_detection_global</th>\n",
       "      <th>Original_Accuracy</th>\n",
       "    </tr>\n",
       "  </thead>\n",
       "  <tbody>\n",
       "    <tr>\n",
       "      <th>0</th>\n",
       "      <td>Baseline</td>\n",
       "      <td>0.86</td>\n",
       "      <td>0.58</td>\n",
       "      <td>0.697196</td>\n",
       "      <td>0.681529</td>\n",
       "    </tr>\n",
       "    <tr>\n",
       "      <th>1</th>\n",
       "      <td>DoctorAlpha</td>\n",
       "      <td>0.84</td>\n",
       "      <td>0.54</td>\n",
       "      <td>0.691589</td>\n",
       "      <td>0.681529</td>\n",
       "    </tr>\n",
       "    <tr>\n",
       "      <th>2</th>\n",
       "      <td>Trust Score</td>\n",
       "      <td>0.80</td>\n",
       "      <td>0.48</td>\n",
       "      <td>0.760748</td>\n",
       "      <td>0.681529</td>\n",
       "    </tr>\n",
       "    <tr>\n",
       "      <th>3</th>\n",
       "      <td>MCMC Average Softmax score - Agg pred</td>\n",
       "      <td>0.80</td>\n",
       "      <td>0.60</td>\n",
       "      <td>0.695701</td>\n",
       "      <td>0.681529</td>\n",
       "    </tr>\n",
       "    <tr>\n",
       "      <th>4</th>\n",
       "      <td>MCMC Entropy score - Agg pred</td>\n",
       "      <td>0.86</td>\n",
       "      <td>0.64</td>\n",
       "      <td>0.696636</td>\n",
       "      <td>0.681529</td>\n",
       "    </tr>\n",
       "  </tbody>\n",
       "</table>\n",
       "</div>"
      ]
     },
     "metadata": {},
     "output_type": "display_data"
    }
   ],
   "execution_count": 11
  },
  {
   "cell_type": "markdown",
   "metadata": {},
   "source": [
    "## Laplace"
   ]
  },
  {
   "cell_type": "code",
   "metadata": {
    "ExecuteTime": {
     "end_time": "2025-01-20T05:19:02.892710Z",
     "start_time": "2025-01-20T05:19:02.864723Z"
    }
   },
   "source": [
    "if \"Laplace_predictions\" in scores_df.columns:\n",
    "    evaluator_laplace = ThresholdBasedEvaluator(\n",
    "        scores_df[\"Laplace_score\"],\n",
    "        scores_df[\"Laplace_predictions\"],\n",
    "        scores_df[\"Laplace_targets\"],\n",
    "        scores_df[\"Laplace_probas\"],\n",
    "        \"Laplace\",\n",
    "    )\n",
    "    all_metrics = all_metrics.append(\n",
    "        evaluator_laplace.get_new_metrics(), ignore_index=True\n",
    "    )"
   ],
   "outputs": [],
   "execution_count": 12
  },
  {
   "cell_type": "markdown",
   "metadata": {},
   "source": [
    "## ConfidNet"
   ]
  },
  {
   "cell_type": "code",
   "metadata": {
    "ExecuteTime": {
     "end_time": "2025-01-20T05:19:08.398132Z",
     "start_time": "2025-01-20T05:19:08.371642Z"
    }
   },
   "source": [
    "if \"ConfidNet_scores\" in scores_df.columns:\n",
    "    evaluator_confidNet = ThresholdBasedEvaluator(\n",
    "        scores_df[\"ConfidNet_scores\"],\n",
    "        scores_df[\"Predictions\"],\n",
    "        scores_df[\"Targets\"],\n",
    "        scores_df[\"Probas\"],\n",
    "        \"ConfidNet\",\n",
    "    )\n",
    "    all_metrics = all_metrics.append(\n",
    "        evaluator_confidNet.get_new_metrics(), ignore_index=True\n",
    "    )"
   ],
   "outputs": [],
   "execution_count": 13
  },
  {
   "cell_type": "markdown",
   "metadata": {},
   "source": [
    "## SWAG"
   ]
  },
  {
   "cell_type": "code",
   "metadata": {
    "ExecuteTime": {
     "end_time": "2025-01-20T05:19:12.446236Z",
     "start_time": "2025-01-20T05:19:12.433233Z"
    }
   },
   "source": [
    "if \"SWAG_score\" in scores_df.columns:\n",
    "    evaluator_swag = ThresholdBasedEvaluator(\n",
    "        scores_df[\"SWAG_score\"],\n",
    "        scores_df[\"SWAG_predictions\"],\n",
    "        scores_df[\"SWAG_targets\"],\n",
    "        scores_df[\"SWAG_probas\"],\n",
    "        \"SWAG\",\n",
    "    )\n",
    "    all_metrics = all_metrics.append(\n",
    "        evaluator_swag.get_new_metrics(), ignore_index=True\n",
    "    )"
   ],
   "outputs": [],
   "execution_count": 14
  },
  {
   "cell_type": "markdown",
   "metadata": {},
   "source": [
    "## DUQ"
   ]
  },
  {
   "cell_type": "code",
   "metadata": {
    "ExecuteTime": {
     "end_time": "2025-01-11T16:16:33.563274Z",
     "start_time": "2025-01-11T16:16:33.550271Z"
    }
   },
   "source": [
    "if \"DUQ_score\" in scores_df.columns:\n",
    "    evaluator_duq = ThresholdBasedEvaluator(\n",
    "        scores_df[\"DUQ_score\"],\n",
    "        scores_df[\"DUQ_predictions\"],\n",
    "        scores_df[\"Targets\"],\n",
    "        scores_df[\"DUQ_probas\"],\n",
    "        \"DUQ\",\n",
    "    )\n",
    "    all_metrics = all_metrics.append(evaluator_duq.get_new_metrics(), ignore_index=True)"
   ],
   "outputs": [],
   "execution_count": 20
  },
  {
   "cell_type": "code",
   "metadata": {
    "ExecuteTime": {
     "end_time": "2025-01-20T05:19:21.318239Z",
     "start_time": "2025-01-20T05:19:21.296728Z"
    }
   },
   "source": [
    "all_metrics.to_csv(Path(scores_filename).parent / f\"all_metrics.csv\", index=False)\n",
    "all_metrics"
   ],
   "outputs": [
    {
     "data": {
      "text/plain": [
       "                                  Scorer  FPR_TPR95  FPR_TPR80  \\\n",
       "0                               Baseline   0.860000   0.580000   \n",
       "1                            DoctorAlpha   0.840000   0.540000   \n",
       "2                            Trust Score   0.800000   0.480000   \n",
       "3  MCMC Average Softmax score - Agg pred   0.800000   0.600000   \n",
       "4          MCMC Entropy score - Agg pred   0.860000   0.640000   \n",
       "5                                Laplace   0.840000   0.580000   \n",
       "6                              ConfidNet   0.840000   0.620000   \n",
       "7                                   SWAG   0.822222   0.444444   \n",
       "\n",
       "   ROC_AUC_error_detection_global  Original_Accuracy  \n",
       "0                        0.697196           0.681529  \n",
       "1                        0.691589           0.681529  \n",
       "2                        0.760748           0.681529  \n",
       "3                        0.695701           0.681529  \n",
       "4                        0.696636           0.681529  \n",
       "5                        0.691776           0.681529  \n",
       "6                        0.694953           0.681529  \n",
       "7                        0.737698           0.713376  "
      ],
      "text/html": [
       "<div>\n",
       "<style scoped>\n",
       "    .dataframe tbody tr th:only-of-type {\n",
       "        vertical-align: middle;\n",
       "    }\n",
       "\n",
       "    .dataframe tbody tr th {\n",
       "        vertical-align: top;\n",
       "    }\n",
       "\n",
       "    .dataframe thead th {\n",
       "        text-align: right;\n",
       "    }\n",
       "</style>\n",
       "<table border=\"1\" class=\"dataframe\">\n",
       "  <thead>\n",
       "    <tr style=\"text-align: right;\">\n",
       "      <th></th>\n",
       "      <th>Scorer</th>\n",
       "      <th>FPR_TPR95</th>\n",
       "      <th>FPR_TPR80</th>\n",
       "      <th>ROC_AUC_error_detection_global</th>\n",
       "      <th>Original_Accuracy</th>\n",
       "    </tr>\n",
       "  </thead>\n",
       "  <tbody>\n",
       "    <tr>\n",
       "      <th>0</th>\n",
       "      <td>Baseline</td>\n",
       "      <td>0.860000</td>\n",
       "      <td>0.580000</td>\n",
       "      <td>0.697196</td>\n",
       "      <td>0.681529</td>\n",
       "    </tr>\n",
       "    <tr>\n",
       "      <th>1</th>\n",
       "      <td>DoctorAlpha</td>\n",
       "      <td>0.840000</td>\n",
       "      <td>0.540000</td>\n",
       "      <td>0.691589</td>\n",
       "      <td>0.681529</td>\n",
       "    </tr>\n",
       "    <tr>\n",
       "      <th>2</th>\n",
       "      <td>Trust Score</td>\n",
       "      <td>0.800000</td>\n",
       "      <td>0.480000</td>\n",
       "      <td>0.760748</td>\n",
       "      <td>0.681529</td>\n",
       "    </tr>\n",
       "    <tr>\n",
       "      <th>3</th>\n",
       "      <td>MCMC Average Softmax score - Agg pred</td>\n",
       "      <td>0.800000</td>\n",
       "      <td>0.600000</td>\n",
       "      <td>0.695701</td>\n",
       "      <td>0.681529</td>\n",
       "    </tr>\n",
       "    <tr>\n",
       "      <th>4</th>\n",
       "      <td>MCMC Entropy score - Agg pred</td>\n",
       "      <td>0.860000</td>\n",
       "      <td>0.640000</td>\n",
       "      <td>0.696636</td>\n",
       "      <td>0.681529</td>\n",
       "    </tr>\n",
       "    <tr>\n",
       "      <th>5</th>\n",
       "      <td>Laplace</td>\n",
       "      <td>0.840000</td>\n",
       "      <td>0.580000</td>\n",
       "      <td>0.691776</td>\n",
       "      <td>0.681529</td>\n",
       "    </tr>\n",
       "    <tr>\n",
       "      <th>6</th>\n",
       "      <td>ConfidNet</td>\n",
       "      <td>0.840000</td>\n",
       "      <td>0.620000</td>\n",
       "      <td>0.694953</td>\n",
       "      <td>0.681529</td>\n",
       "    </tr>\n",
       "    <tr>\n",
       "      <th>7</th>\n",
       "      <td>SWAG</td>\n",
       "      <td>0.822222</td>\n",
       "      <td>0.444444</td>\n",
       "      <td>0.737698</td>\n",
       "      <td>0.713376</td>\n",
       "    </tr>\n",
       "  </tbody>\n",
       "</table>\n",
       "</div>"
      ]
     },
     "execution_count": 15,
     "metadata": {},
     "output_type": "execute_result"
    }
   ],
   "execution_count": 15
  },
  {
   "metadata": {},
   "cell_type": "code",
   "outputs": [],
   "execution_count": null,
   "source": ""
  }
 ],
 "metadata": {
  "celltoolbar": "Tags",
  "interpreter": {
   "hash": "18efa2ea88a9a0f10d6e5cc4837f7bdf7b7858c8420811408b1cd4ad9b1bf20a"
  },
  "kernelspec": {
   "display_name": "Python 3 (ipykernel)",
   "name": "python3",
   "language": "python"
  },
  "language_info": {
   "name": "python",
   "version": ""
  }
 },
 "nbformat": 4,
 "nbformat_minor": 2
}
