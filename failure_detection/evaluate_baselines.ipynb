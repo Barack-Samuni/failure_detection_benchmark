{
 "cells": [
  {
   "cell_type": "markdown",
   "metadata": {},
   "source": [
    "# Baselines evaluation "
   ]
  },
  {
   "cell_type": "code",
   "metadata": {
    "tags": [
     "parameters"
    ],
    "ExecuteTime": {
     "end_time": "2024-12-29T19:13:08.378857Z",
     "start_time": "2024-12-29T19:13:08.365862Z"
    }
   },
   "source": [
    "import os\n",
    "from pathlib import Path\n",
    "# config_name = \"medmnist/pathmnist_resnet_dropout_all_layers.yml\"\n",
    "config_name = Path(os.getcwd()).parent / \"configs\" / \"busi\" / \"busi_resnet.yml\"\n",
    "scores_filename = Path(os.getcwd()).parent / \"outputs\" / \"BUSI\" / \"resnet18\" / \"dropout_all_layers_autolr_longer\" / \"seed_55\" / \"failure_detection\" / \"scores_df.csv\""
   ],
   "outputs": [],
   "execution_count": 3
  },
  {
   "cell_type": "code",
   "metadata": {
    "ExecuteTime": {
     "end_time": "2024-12-29T19:13:10.223178Z",
     "start_time": "2024-12-29T19:13:10.195180Z"
    }
   },
   "source": [
    "import sys\n",
    "import os\n",
    "from configs.default_config import load_yaml_training_config\n",
    "from failure_detection.evaluator import ThresholdBasedEvaluator\n",
    "from failure_detection.run_evaluation import get_all_scores\n",
    "from sklearn.metrics import ConfusionMatrixDisplay\n",
    "from sklearn.calibration import CalibrationDisplay\n",
    "import seaborn as sns\n",
    "import matplotlib.pyplot as plt\n",
    "import os\n",
    "import pandas as pd\n",
    "from pathlib import Path\n",
    "\n",
    "config = load_yaml_training_config(config_name)\n",
    "\n",
    "if not Path(scores_filename).exists():\n",
    "    print(\"Score dataframe not created yet, running scores script\")\n",
    "    scores_df = get_all_scores(config_name)\n",
    "else:\n",
    "    scores_df = pd.read_csv(scores_filename)\n",
    "\n",
    "if config.n_classes > 2:\n",
    "    scores_df[\"mcmc_probas\"] = None\n",
    "    scores_df[\"Probas\"] = None\n",
    "    scores_df[\"Laplace_probas\"] = None\n",
    "    scores_df[\"SWAG_probas\"] = None"
   ],
   "outputs": [],
   "execution_count": 4
  },
  {
   "cell_type": "markdown",
   "metadata": {},
   "source": [
    "## A look at the model"
   ]
  },
  {
   "cell_type": "code",
   "metadata": {
    "ExecuteTime": {
     "end_time": "2024-12-29T19:13:19.506850Z",
     "start_time": "2024-12-29T19:13:19.292592Z"
    }
   },
   "source": [
    "f, ax = plt.subplots(1, 1, figsize=(8, 8))\n",
    "ConfusionMatrixDisplay.from_predictions(\n",
    "    scores_df[\"Targets\"].astype(int).values,\n",
    "    scores_df[\"Predictions\"].astype(int).values,\n",
    "    normalize=\"true\",\n",
    "    ax=ax,\n",
    ")"
   ],
   "outputs": [
    {
     "data": {
      "text/plain": [
       "<sklearn.metrics._plot.confusion_matrix.ConfusionMatrixDisplay at 0x1ad0e9ab520>"
      ]
     },
     "execution_count": 5,
     "metadata": {},
     "output_type": "execute_result"
    },
    {
     "data": {
      "text/plain": [
       "<Figure size 800x800 with 2 Axes>"
      ],
      "image/png": "[encoded data removed]"
     },
     "metadata": {},
     "output_type": "display_data"
    }
   ],
   "execution_count": 5
  },
  {
   "cell_type": "code",
   "metadata": {
    "ExecuteTime": {
     "end_time": "2024-12-29T19:14:43.238263Z",
     "start_time": "2024-12-29T19:14:43.226264Z"
    }
   },
   "source": [
    "from sklearn.metrics import accuracy_score\n",
    "\n",
    "print(\n",
    "    f'Acc: {accuracy_score(scores_df[\"Targets\"].astype(int).values, scores_df[\"Predictions\"].astype(int).values):.3f}'\n",
    ")"
   ],
   "outputs": [
    {
     "name": "stdout",
     "output_type": "stream",
     "text": [
      "Acc: 0.605\n"
     ]
    }
   ],
   "execution_count": 6
  },
  {
   "cell_type": "code",
   "metadata": {
    "ExecuteTime": {
     "end_time": "2024-12-29T19:15:04.263018Z",
     "start_time": "2024-12-29T19:15:04.250703Z"
    }
   },
   "source": [
    "if config.n_classes == 2:\n",
    "    CalibrationDisplay.from_predictions(\n",
    "        scores_df[\"Targets\"].values, scores_df[\"Probas\"].values, n_bins=10\n",
    "    )"
   ],
   "outputs": [],
   "execution_count": 7
  },
  {
   "cell_type": "code",
   "metadata": {
    "ExecuteTime": {
     "end_time": "2024-12-29T19:15:05.644086Z",
     "start_time": "2024-12-29T19:15:05.631085Z"
    }
   },
   "source": [
    "if config.n_classes == 2:\n",
    "    sns.histplot(x=scores_df[\"Probas\"], hue=scores_df[\"Targets\"], multiple=\"stack\")\n",
    "    plt.title(\"Distribution of p(y=1) by target (on test set)\")"
   ],
   "outputs": [],
   "execution_count": 8
  },
  {
   "cell_type": "markdown",
   "metadata": {},
   "source": [
    "## Get Softmax baseline results"
   ]
  },
  {
   "cell_type": "code",
   "metadata": {
    "ExecuteTime": {
     "end_time": "2024-12-29T19:15:13.647312Z",
     "start_time": "2024-12-29T19:15:13.620314Z"
    }
   },
   "source": [
    "evaluator_baseline = ThresholdBasedEvaluator(\n",
    "    scores_df[\"Baseline\"],\n",
    "    scores_df[\"Predictions\"],\n",
    "    scores_df[\"Targets\"],\n",
    "    scores_df[\"Probas\"],\n",
    "    \"Baseline\",\n",
    ")\n",
    "all_metrics = evaluator_baseline.get_new_metrics();"
   ],
   "outputs": [],
   "execution_count": 9
  },
  {
   "cell_type": "code",
   "metadata": {
    "ExecuteTime": {
     "end_time": "2024-12-29T19:15:14.907062Z",
     "start_time": "2024-12-29T19:15:14.879551Z"
    }
   },
   "source": [
    "all_metrics"
   ],
   "outputs": [
    {
     "data": {
      "text/plain": [
       "     Scorer  FPR_TPR95  FPR_TPR80  ROC_AUC_error_detection_global  \\\n",
       "0  Baseline   0.822581   0.241935                        0.856197   \n",
       "\n",
       "   Original_Accuracy  \n",
       "0           0.605096  "
      ],
      "text/html": [
       "<div>\n",
       "<style scoped>\n",
       "    .dataframe tbody tr th:only-of-type {\n",
       "        vertical-align: middle;\n",
       "    }\n",
       "\n",
       "    .dataframe tbody tr th {\n",
       "        vertical-align: top;\n",
       "    }\n",
       "\n",
       "    .dataframe thead th {\n",
       "        text-align: right;\n",
       "    }\n",
       "</style>\n",
       "<table border=\"1\" class=\"dataframe\">\n",
       "  <thead>\n",
       "    <tr style=\"text-align: right;\">\n",
       "      <th></th>\n",
       "      <th>Scorer</th>\n",
       "      <th>FPR_TPR95</th>\n",
       "      <th>FPR_TPR80</th>\n",
       "      <th>ROC_AUC_error_detection_global</th>\n",
       "      <th>Original_Accuracy</th>\n",
       "    </tr>\n",
       "  </thead>\n",
       "  <tbody>\n",
       "    <tr>\n",
       "      <th>0</th>\n",
       "      <td>Baseline</td>\n",
       "      <td>0.822581</td>\n",
       "      <td>0.241935</td>\n",
       "      <td>0.856197</td>\n",
       "      <td>0.605096</td>\n",
       "    </tr>\n",
       "  </tbody>\n",
       "</table>\n",
       "</div>"
      ]
     },
     "execution_count": 10,
     "metadata": {},
     "output_type": "execute_result"
    }
   ],
   "execution_count": 10
  },
  {
   "cell_type": "markdown",
   "metadata": {},
   "source": [
    "## Get DOCTOR results"
   ]
  },
  {
   "cell_type": "code",
   "metadata": {
    "ExecuteTime": {
     "end_time": "2024-12-29T19:15:29.992990Z",
     "start_time": "2024-12-29T19:15:29.981986Z"
    }
   },
   "source": [
    "if \"doctor_alpha\" in scores_df.columns:\n",
    "    evaluator_alpha = ThresholdBasedEvaluator(\n",
    "        scores_df[\"doctor_alpha\"],\n",
    "        scores_df[\"Predictions\"],\n",
    "        scores_df[\"Targets\"],\n",
    "        scores_df[\"Probas\"],\n",
    "        \"DoctorAlpha\",\n",
    "    )\n",
    "    all_metrics = all_metrics.append(\n",
    "        evaluator_alpha.get_new_metrics(), ignore_index=True\n",
    "    )\n",
    "\n",
    "if \"doctor_alpha_pbb\" in scores_df.columns:\n",
    "    evaluator_alpha_pbb = ThresholdBasedEvaluator(\n",
    "        scores_df[\"doctor_alpha_pbb\"],\n",
    "        scores_df[\"Predictions\"],\n",
    "        scores_df[\"Targets\"],\n",
    "        scores_df[\"Probas\"],\n",
    "        \"DoctorAlphaPBB\",\n",
    "    )\n",
    "    all_metrics = all_metrics.append(\n",
    "        evaluator_alpha_pbb.get_new_metrics(), ignore_index=True\n",
    "    )"
   ],
   "outputs": [],
   "execution_count": 11
  },
  {
   "cell_type": "markdown",
   "metadata": {},
   "source": [
    "## Get TrustScore results"
   ]
  },
  {
   "cell_type": "code",
   "metadata": {
    "ExecuteTime": {
     "end_time": "2024-12-29T19:15:34.122412Z",
     "start_time": "2024-12-29T19:15:34.110413Z"
    }
   },
   "source": [
    "if \"TrustScore\" in scores_df.columns:\n",
    "    evaluator_trustscore = ThresholdBasedEvaluator(\n",
    "        scores_df[\"TrustScore\"],\n",
    "        scores_df[\"Predictions\"],\n",
    "        scores_df[\"Targets\"],\n",
    "        scores_df[\"Probas\"],\n",
    "        \"Trust Score\",\n",
    "    )\n",
    "    all_metrics = all_metrics.append(\n",
    "        evaluator_trustscore.get_new_metrics(), ignore_index=True\n",
    "    )"
   ],
   "outputs": [],
   "execution_count": 12
  },
  {
   "cell_type": "markdown",
   "metadata": {},
   "source": [
    "## MCMC dropout"
   ]
  },
  {
   "cell_type": "code",
   "metadata": {
    "ExecuteTime": {
     "end_time": "2024-12-29T19:15:49.263575Z",
     "start_time": "2024-12-29T19:15:49.235063Z"
    }
   },
   "source": [
    "if \"mcmc_soft_scores\" in scores_df.columns:\n",
    "    evaluator_mcmcmean_agg = ThresholdBasedEvaluator(\n",
    "        scores_df[\"mcmc_soft_scores\"],\n",
    "        scores_df[\"mcmc_predictions\"],\n",
    "        scores_df[\"Targets\"],\n",
    "        scores_df[\"mcmc_probas\"],\n",
    "        \"MCMC Average Softmax score - Agg pred\",\n",
    "    )\n",
    "    all_metrics = all_metrics.append(\n",
    "        evaluator_mcmcmean_agg.get_new_metrics(), ignore_index=True\n",
    "    )\n",
    "    evaluator_mcmcmean_agg = ThresholdBasedEvaluator(\n",
    "        scores_df[\"mcmc_entropy_scores\"],\n",
    "        scores_df[\"mcmc_predictions\"],\n",
    "        scores_df[\"Targets\"],\n",
    "        scores_df[\"mcmc_probas\"],\n",
    "        \"MCMC Entropy score - Agg pred\",\n",
    "    )\n",
    "    all_metrics = all_metrics.append(\n",
    "        evaluator_mcmcmean_agg.get_new_metrics(), ignore_index=True\n",
    "    )\n",
    "    display(all_metrics)"
   ],
   "outputs": [
    {
     "data": {
      "text/plain": [
       "                                  Scorer  FPR_TPR95  FPR_TPR80  \\\n",
       "0                               Baseline   0.822581   0.241935   \n",
       "1                            DoctorAlpha   0.790323   0.241935   \n",
       "2                            Trust Score   0.612903   0.177419   \n",
       "3  MCMC Average Softmax score - Agg pred   0.966667   0.266667   \n",
       "4          MCMC Entropy score - Agg pred   0.866667   0.283333   \n",
       "5  MCMC Average Softmax score - Agg pred   0.966667   0.266667   \n",
       "6          MCMC Entropy score - Agg pred   0.866667   0.283333   \n",
       "\n",
       "   ROC_AUC_error_detection_global  Original_Accuracy  \n",
       "0                        0.856197           0.605096  \n",
       "1                        0.855178           0.605096  \n",
       "2                        0.877589           0.605096  \n",
       "3                        0.835567           0.617834  \n",
       "4                        0.850859           0.617834  \n",
       "5                        0.835567           0.617834  \n",
       "6                        0.850859           0.617834  "
      ],
      "text/html": [
       "<div>\n",
       "<style scoped>\n",
       "    .dataframe tbody tr th:only-of-type {\n",
       "        vertical-align: middle;\n",
       "    }\n",
       "\n",
       "    .dataframe tbody tr th {\n",
       "        vertical-align: top;\n",
       "    }\n",
       "\n",
       "    .dataframe thead th {\n",
       "        text-align: right;\n",
       "    }\n",
       "</style>\n",
       "<table border=\"1\" class=\"dataframe\">\n",
       "  <thead>\n",
       "    <tr style=\"text-align: right;\">\n",
       "      <th></th>\n",
       "      <th>Scorer</th>\n",
       "      <th>FPR_TPR95</th>\n",
       "      <th>FPR_TPR80</th>\n",
       "      <th>ROC_AUC_error_detection_global</th>\n",
       "      <th>Original_Accuracy</th>\n",
       "    </tr>\n",
       "  </thead>\n",
       "  <tbody>\n",
       "    <tr>\n",
       "      <th>0</th>\n",
       "      <td>Baseline</td>\n",
       "      <td>0.822581</td>\n",
       "      <td>0.241935</td>\n",
       "      <td>0.856197</td>\n",
       "      <td>0.605096</td>\n",
       "    </tr>\n",
       "    <tr>\n",
       "      <th>1</th>\n",
       "      <td>DoctorAlpha</td>\n",
       "      <td>0.790323</td>\n",
       "      <td>0.241935</td>\n",
       "      <td>0.855178</td>\n",
       "      <td>0.605096</td>\n",
       "    </tr>\n",
       "    <tr>\n",
       "      <th>2</th>\n",
       "      <td>Trust Score</td>\n",
       "      <td>0.612903</td>\n",
       "      <td>0.177419</td>\n",
       "      <td>0.877589</td>\n",
       "      <td>0.605096</td>\n",
       "    </tr>\n",
       "    <tr>\n",
       "      <th>3</th>\n",
       "      <td>MCMC Average Softmax score - Agg pred</td>\n",
       "      <td>0.966667</td>\n",
       "      <td>0.266667</td>\n",
       "      <td>0.835567</td>\n",
       "      <td>0.617834</td>\n",
       "    </tr>\n",
       "    <tr>\n",
       "      <th>4</th>\n",
       "      <td>MCMC Entropy score - Agg pred</td>\n",
       "      <td>0.866667</td>\n",
       "      <td>0.283333</td>\n",
       "      <td>0.850859</td>\n",
       "      <td>0.617834</td>\n",
       "    </tr>\n",
       "    <tr>\n",
       "      <th>5</th>\n",
       "      <td>MCMC Average Softmax score - Agg pred</td>\n",
       "      <td>0.966667</td>\n",
       "      <td>0.266667</td>\n",
       "      <td>0.835567</td>\n",
       "      <td>0.617834</td>\n",
       "    </tr>\n",
       "    <tr>\n",
       "      <th>6</th>\n",
       "      <td>MCMC Entropy score - Agg pred</td>\n",
       "      <td>0.866667</td>\n",
       "      <td>0.283333</td>\n",
       "      <td>0.850859</td>\n",
       "      <td>0.617834</td>\n",
       "    </tr>\n",
       "  </tbody>\n",
       "</table>\n",
       "</div>"
      ]
     },
     "metadata": {},
     "output_type": "display_data"
    }
   ],
   "execution_count": 14
  },
  {
   "cell_type": "markdown",
   "metadata": {},
   "source": [
    "## Laplace"
   ]
  },
  {
   "cell_type": "code",
   "metadata": {
    "ExecuteTime": {
     "end_time": "2024-12-29T19:16:01.761725Z",
     "start_time": "2024-12-29T19:16:01.749716Z"
    }
   },
   "source": [
    "if \"Laplace_predictions\" in scores_df.columns:\n",
    "    evaluator_laplace = ThresholdBasedEvaluator(\n",
    "        scores_df[\"Laplace_score\"],\n",
    "        scores_df[\"Laplace_predictions\"],\n",
    "        scores_df[\"Laplace_targets\"],\n",
    "        scores_df[\"Laplace_probas\"],\n",
    "        \"Laplace\",\n",
    "    )\n",
    "    all_metrics = all_metrics.append(\n",
    "        evaluator_laplace.get_new_metrics(), ignore_index=True\n",
    "    )"
   ],
   "outputs": [],
   "execution_count": 15
  },
  {
   "cell_type": "markdown",
   "metadata": {},
   "source": [
    "## ConfidNet"
   ]
  },
  {
   "cell_type": "code",
   "metadata": {
    "ExecuteTime": {
     "end_time": "2024-12-29T19:16:05.027536Z",
     "start_time": "2024-12-29T19:16:05.014103Z"
    }
   },
   "source": [
    "if \"ConfidNet_scores\" in scores_df.columns:\n",
    "    evaluator_confidNet = ThresholdBasedEvaluator(\n",
    "        scores_df[\"ConfidNet_scores\"],\n",
    "        scores_df[\"Predictions\"],\n",
    "        scores_df[\"Targets\"],\n",
    "        scores_df[\"Probas\"],\n",
    "        \"ConfidNet\",\n",
    "    )\n",
    "    all_metrics = all_metrics.append(\n",
    "        evaluator_confidNet.get_new_metrics(), ignore_index=True\n",
    "    )"
   ],
   "outputs": [],
   "execution_count": 16
  },
  {
   "cell_type": "markdown",
   "metadata": {},
   "source": [
    "## SWAG"
   ]
  },
  {
   "cell_type": "code",
   "metadata": {
    "ExecuteTime": {
     "end_time": "2024-12-29T19:16:07.653892Z",
     "start_time": "2024-12-29T19:16:07.640893Z"
    }
   },
   "source": [
    "if \"SWAG_score\" in scores_df.columns:\n",
    "    evaluator_swag = ThresholdBasedEvaluator(\n",
    "        scores_df[\"SWAG_score\"],\n",
    "        scores_df[\"SWAG_predictions\"],\n",
    "        scores_df[\"SWAG_targets\"],\n",
    "        scores_df[\"SWAG_probas\"],\n",
    "        \"SWAG\",\n",
    "    )\n",
    "    all_metrics = all_metrics.append(\n",
    "        evaluator_swag.get_new_metrics(), ignore_index=True\n",
    "    )"
   ],
   "outputs": [],
   "execution_count": 17
  },
  {
   "cell_type": "markdown",
   "metadata": {},
   "source": [
    "## DUQ"
   ]
  },
  {
   "cell_type": "code",
   "metadata": {
    "ExecuteTime": {
     "end_time": "2024-12-29T19:16:11.458170Z",
     "start_time": "2024-12-29T19:16:11.446173Z"
    }
   },
   "source": [
    "if \"DUQ_score\" in scores_df.columns:\n",
    "    evaluator_duq = ThresholdBasedEvaluator(\n",
    "        scores_df[\"DUQ_score\"],\n",
    "        scores_df[\"DUQ_predictions\"],\n",
    "        scores_df[\"Targets\"],\n",
    "        scores_df[\"DUQ_probas\"],\n",
    "        \"DUQ\",\n",
    "    )\n",
    "    all_metrics = all_metrics.append(evaluator_duq.get_new_metrics(), ignore_index=True)"
   ],
   "outputs": [],
   "execution_count": 18
  },
  {
   "cell_type": "code",
   "metadata": {
    "ExecuteTime": {
     "end_time": "2024-12-29T19:16:14.847044Z",
     "start_time": "2024-12-29T19:16:14.819038Z"
    }
   },
   "source": [
    "all_metrics.to_csv(Path(scores_filename).parent / f\"all_metrics.csv\", index=False)\n",
    "all_metrics"
   ],
   "outputs": [
    {
     "data": {
      "text/plain": [
       "                                  Scorer  FPR_TPR95  FPR_TPR80  \\\n",
       "0                               Baseline   0.822581   0.241935   \n",
       "1                            DoctorAlpha   0.790323   0.241935   \n",
       "2                            Trust Score   0.612903   0.177419   \n",
       "3  MCMC Average Softmax score - Agg pred   0.966667   0.266667   \n",
       "4          MCMC Entropy score - Agg pred   0.866667   0.283333   \n",
       "5  MCMC Average Softmax score - Agg pred   0.966667   0.266667   \n",
       "6          MCMC Entropy score - Agg pred   0.866667   0.283333   \n",
       "7                                Laplace   0.854839   0.258065   \n",
       "8                              ConfidNet   0.838710   0.322581   \n",
       "9                                   SWAG   0.795455   0.613636   \n",
       "\n",
       "   ROC_AUC_error_detection_global  Original_Accuracy  \n",
       "0                        0.856197           0.605096  \n",
       "1                        0.855178           0.605096  \n",
       "2                        0.877589           0.605096  \n",
       "3                        0.835567           0.617834  \n",
       "4                        0.850859           0.617834  \n",
       "5                        0.835567           0.617834  \n",
       "6                        0.850859           0.617834  \n",
       "7                        0.831579           0.605096  \n",
       "8                        0.817657           0.605096  \n",
       "9                        0.677192           0.719745  "
      ],
      "text/html": [
       "<div>\n",
       "<style scoped>\n",
       "    .dataframe tbody tr th:only-of-type {\n",
       "        vertical-align: middle;\n",
       "    }\n",
       "\n",
       "    .dataframe tbody tr th {\n",
       "        vertical-align: top;\n",
       "    }\n",
       "\n",
       "    .dataframe thead th {\n",
       "        text-align: right;\n",
       "    }\n",
       "</style>\n",
       "<table border=\"1\" class=\"dataframe\">\n",
       "  <thead>\n",
       "    <tr style=\"text-align: right;\">\n",
       "      <th></th>\n",
       "      <th>Scorer</th>\n",
       "      <th>FPR_TPR95</th>\n",
       "      <th>FPR_TPR80</th>\n",
       "      <th>ROC_AUC_error_detection_global</th>\n",
       "      <th>Original_Accuracy</th>\n",
       "    </tr>\n",
       "  </thead>\n",
       "  <tbody>\n",
       "    <tr>\n",
       "      <th>0</th>\n",
       "      <td>Baseline</td>\n",
       "      <td>0.822581</td>\n",
       "      <td>0.241935</td>\n",
       "      <td>0.856197</td>\n",
       "      <td>0.605096</td>\n",
       "    </tr>\n",
       "    <tr>\n",
       "      <th>1</th>\n",
       "      <td>DoctorAlpha</td>\n",
       "      <td>0.790323</td>\n",
       "      <td>0.241935</td>\n",
       "      <td>0.855178</td>\n",
       "      <td>0.605096</td>\n",
       "    </tr>\n",
       "    <tr>\n",
       "      <th>2</th>\n",
       "      <td>Trust Score</td>\n",
       "      <td>0.612903</td>\n",
       "      <td>0.177419</td>\n",
       "      <td>0.877589</td>\n",
       "      <td>0.605096</td>\n",
       "    </tr>\n",
       "    <tr>\n",
       "      <th>3</th>\n",
       "      <td>MCMC Average Softmax score - Agg pred</td>\n",
       "      <td>0.966667</td>\n",
       "      <td>0.266667</td>\n",
       "      <td>0.835567</td>\n",
       "      <td>0.617834</td>\n",
       "    </tr>\n",
       "    <tr>\n",
       "      <th>4</th>\n",
       "      <td>MCMC Entropy score - Agg pred</td>\n",
       "      <td>0.866667</td>\n",
       "      <td>0.283333</td>\n",
       "      <td>0.850859</td>\n",
       "      <td>0.617834</td>\n",
       "    </tr>\n",
       "    <tr>\n",
       "      <th>5</th>\n",
       "      <td>MCMC Average Softmax score - Agg pred</td>\n",
       "      <td>0.966667</td>\n",
       "      <td>0.266667</td>\n",
       "      <td>0.835567</td>\n",
       "      <td>0.617834</td>\n",
       "    </tr>\n",
       "    <tr>\n",
       "      <th>6</th>\n",
       "      <td>MCMC Entropy score - Agg pred</td>\n",
       "      <td>0.866667</td>\n",
       "      <td>0.283333</td>\n",
       "      <td>0.850859</td>\n",
       "      <td>0.617834</td>\n",
       "    </tr>\n",
       "    <tr>\n",
       "      <th>7</th>\n",
       "      <td>Laplace</td>\n",
       "      <td>0.854839</td>\n",
       "      <td>0.258065</td>\n",
       "      <td>0.831579</td>\n",
       "      <td>0.605096</td>\n",
       "    </tr>\n",
       "    <tr>\n",
       "      <th>8</th>\n",
       "      <td>ConfidNet</td>\n",
       "      <td>0.838710</td>\n",
       "      <td>0.322581</td>\n",
       "      <td>0.817657</td>\n",
       "      <td>0.605096</td>\n",
       "    </tr>\n",
       "    <tr>\n",
       "      <th>9</th>\n",
       "      <td>SWAG</td>\n",
       "      <td>0.795455</td>\n",
       "      <td>0.613636</td>\n",
       "      <td>0.677192</td>\n",
       "      <td>0.719745</td>\n",
       "    </tr>\n",
       "  </tbody>\n",
       "</table>\n",
       "</div>"
      ]
     },
     "execution_count": 19,
     "metadata": {},
     "output_type": "execute_result"
    }
   ],
   "execution_count": 19
  },
  {
   "metadata": {},
   "cell_type": "code",
   "outputs": [],
   "execution_count": null,
   "source": ""
  }
 ],
 "metadata": {
  "celltoolbar": "Tags",
  "interpreter": {
   "hash": "18efa2ea88a9a0f10d6e5cc4837f7bdf7b7858c8420811408b1cd4ad9b1bf20a"
  },
  "kernelspec": {
   "display_name": "Python 3 (ipykernel)",
   "name": "python3",
   "language": "python"
  },
  "language_info": {
   "name": "python",
   "version": ""
  }
 },
 "nbformat": 4,
 "nbformat_minor": 2
}
